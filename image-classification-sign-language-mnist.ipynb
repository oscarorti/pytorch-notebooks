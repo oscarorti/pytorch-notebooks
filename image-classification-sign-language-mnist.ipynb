{
 "cells": [
  {
   "cell_type": "markdown",
   "metadata": {},
   "source": [
    "### TODOs\n",
    " - [ ] **Experiment1:** Normalize data in `Pre-processing` section.\n",
    " - [ ] **Refactor:** Generalize train and evalutation functions.\n",
    " - [ ] Create a function to inference a single image that returns the predicted class and its score.\n",
    " - [ ] **Experiment3:** Try to initialize AlexNet with weights from hand shape prediciton or something similar.\n",
    " - [ ] **Refactor**: MNIST notebook is applying 2 times softmax\n",
    " - [ ] **Refactor**: check all :) \n",
    " "
   ]
  },
  {
   "cell_type": "markdown",
   "metadata": {},
   "source": [
    "# Summary\n",
    "\n",
    "- [WIP] Experiment 1. Transfer learning, AlexNet with pre-trained weights\n",
    "\n",
    "        ERROR: The training loss performs weird, increasing over the steps and with very high values\n",
    "\n",
    "- [WIP] Experiment 2. Custom CNN\n",
    "\n",
    "        Not implemented."
   ]
  },
  {
   "cell_type": "markdown",
   "metadata": {},
   "source": [
    "# Image Classification with Sign Language MNIST dataset"
   ]
  },
  {
   "cell_type": "markdown",
   "metadata": {},
   "source": [
    "## Prepare environment"
   ]
  },
  {
   "cell_type": "code",
   "execution_count": null,
   "metadata": {},
   "outputs": [],
   "source": [
    "# Install dependencies\n",
    "! pip install torch torchvision pandas matplotlib scipy pillow"
   ]
  },
  {
   "cell_type": "code",
   "execution_count": 1,
   "metadata": {},
   "outputs": [],
   "source": [
    "# Import modules\n",
    "import random\n",
    "\n",
    "from copy import deepcopy\n",
    "from pathlib import Path\n",
    "from math import floor\n",
    "\n",
    "import torch\n",
    "\n",
    "from torch.utils.data import DataLoader\n",
    "from torch.utils.data import random_split\n",
    "from torch.utils.data import TensorDataset\n",
    "from torch.utils.data.dataset import Dataset\n",
    "\n",
    "from torch import nn\n",
    "from torch.nn import functional as F\n",
    "from torch import optim\n",
    "\n",
    "from torchvision import models\n",
    "from torchvision import transforms\n",
    "\n",
    "import numpy as np\n",
    "import pandas as pd\n",
    "from scipy import ndimage\n",
    "\n",
    "from matplotlib import pyplot as plt\n",
    "\n",
    "from PIL import Image"
   ]
  },
  {
   "cell_type": "markdown",
   "metadata": {},
   "source": [
    "## Global parameters"
   ]
  },
  {
   "cell_type": "code",
   "execution_count": 2,
   "metadata": {},
   "outputs": [],
   "source": [
    "VERBOSE = False"
   ]
  },
  {
   "cell_type": "markdown",
   "metadata": {},
   "source": [
    "## Load data"
   ]
  },
  {
   "cell_type": "code",
   "execution_count": 3,
   "metadata": {},
   "outputs": [],
   "source": [
    "# Dataset path\n",
    "dataset_path = Path('datasets/sign-language-mnist')\n",
    "train_csv_path = dataset_path.joinpath('sign_mnist_train.csv')\n",
    "test_csv_path = dataset_path.joinpath('sign_mnist_test.csv')\n",
    "\n",
    "# Load CSV data as dataframes\n",
    "train_df = pd.read_csv(str(train_csv_path))\n",
    "test_df = pd.read_csv(str(test_csv_path))\n",
    "\n",
    "# Get labels\n",
    "train_labels = train_df['label'].values\n",
    "test_labels = test_df['label'].values\n",
    "\n",
    "# Drop labels from dataframes\n",
    "train_df.drop('label', axis = 1, inplace = True)\n",
    "test_df.drop('label', axis = 1, inplace = True)\n",
    "\n",
    "# Resahpe images to 1x28x28 (Channels x Width x Height) into a numpy array\n",
    "train_images = np.array([i.reshape(1, 28, 28) for i in (train_df.values.astype(np.uint8))])\n",
    "test_images = np.array([i.reshape(1, 28, 28) for i in (test_df.values.astype(np.uint8))])\n",
    "\n",
    "# Convert numpy to Tensor\n",
    "train_images_tensor = torch.FloatTensor(train_images)\n",
    "train_labels_tensor = torch.LongTensor(train_labels)\n",
    "test_images_tensor = torch.FloatTensor(test_images)\n",
    "test_labels_tensor = torch.LongTensor(test_labels)\n",
    "\n",
    "if VERBOSE:\n",
    "    print(f'train_df dataframe summary:\\n {train_df.head(2)}\\n')\n",
    "    print(f'test_df dataframe summary:\\n {test_df.head(2)}\\n')\n",
    "\n",
    "    print(f'train_labels type is {type(train_labels)}\\n')\n",
    "    print(f'test_labels type is {type(test_labels)}\\n')\n",
    "\n",
    "    print(f'train_df dataframe summary:\\n {train_df.head(2)}\\n')\n",
    "    print(f'train_df dataframe summary:\\n {test_df.head(2)}\\n')\n",
    "\n",
    "    print(f'train_images type is {type(train_images)} with shape {train_images.shape}\\n')\n",
    "    print(f'test_images type is {type(test_images)} with shape {test_images.shape}\\n')\n",
    "\n",
    "    print(f'train_images_tensor type is {type(train_images_tensor)} with shape {train_images_tensor.shape}\\n')\n",
    "    print(f'train_labels_tensor type is {type(train_labels_tensor)} with shape {train_labels_tensor.shape}\\n')\n",
    "    print(f'test_images_tensor type is {type(test_images_tensor)} with shape {test_images_tensor.shape}\\n')\n",
    "    print(f'test_labels_tensor type is {type(test_labels_tensor)} with shape {test_labels_tensor.shape}\\n')"
   ]
  },
  {
   "cell_type": "markdown",
   "metadata": {},
   "source": [
    "## Show original images"
   ]
  },
  {
   "cell_type": "code",
   "execution_count": 4,
   "metadata": {},
   "outputs": [
    {
     "data": {
      "text/plain": [
       "<matplotlib.image.AxesImage at 0x7f92724ea3c8>"
      ]
     },
     "execution_count": 4,
     "metadata": {},
     "output_type": "execute_result"
    },
    {
     "data": {
      "image/png": "[encoded data removed]",
      "text/plain": [
       "<Figure size 432x288 with 4 Axes>"
      ]
     },
     "metadata": {
      "needs_background": "light"
     },
     "output_type": "display_data"
    }
   ],
   "source": [
    "plt.subplot(221)\n",
    "plt.imshow(train_images_tensor[50,0,:,:])\n",
    "plt.subplot(222)\n",
    "plt.imshow(train_images_tensor[100,0,:,:])\n",
    "plt.subplot(223)\n",
    "plt.imshow(test_images_tensor[25,0,:,:])\n",
    "plt.subplot(224)\n",
    "plt.imshow(test_images_tensor[75,0,:,:])"
   ]
  },
  {
   "cell_type": "markdown",
   "metadata": {},
   "source": [
    "# Experiment 1. Transfer learning, AlexNet with pre-trained weights\n",
    "\n",
    "## Resize images to be compatible with AlexNet"
   ]
  },
  {
   "cell_type": "code",
   "execution_count": 10,
   "metadata": {},
   "outputs": [
    {
     "data": {
      "text/plain": [
       "<matplotlib.image.AxesImage at 0x7f9272335cf8>"
      ]
     },
     "execution_count": 10,
     "metadata": {},
     "output_type": "execute_result"
    },
    {
     "data": {
      "image/png": "[encoded data removed]",
      "text/plain": [
       "<Figure size 432x288 with 4 Axes>"
      ]
     },
     "metadata": {
      "needs_background": "light"
     },
     "output_type": "display_data"
    }
   ],
   "source": [
    "# The given image size (28, 28) is not compatible with AlexNet because AlexNet's input size is (224, 224).\n",
    "# CAVEAT! Not using all available images because of jupyter kernel failure\n",
    "\n",
    "E1_zoom_factor = 224/28\n",
    "E1_train_samples = 500\n",
    "E1_test_samples = 100\n",
    "E1_train_images_tensor = torch.FloatTensor(ndimage.zoom(train_images[0:E1_train_samples], \n",
    "                                                         (1, 1, E1_zoom_factor, E1_zoom_factor)))\n",
    "E1_test_images_tensor = torch.FloatTensor(ndimage.zoom(test_images[0:E1_test_samples], \n",
    "                                                        (1, 1, E1_zoom_factor, E1_zoom_factor)))\n",
    "\n",
    "# Show resized images for AlexNet compatibility\n",
    "plt.subplot(221)\n",
    "plt.imshow(E1_train_images_tensor[50,0,:,:])\n",
    "plt.subplot(222)\n",
    "plt.imshow(E1_train_images_tensor[100,0,:,:])\n",
    "plt.subplot(223)\n",
    "plt.imshow(E1_test_images_tensor[25,0,:,:])\n",
    "plt.subplot(224)\n",
    "plt.imshow(E1_test_images_tensor[75,0,:,:])"
   ]
  },
  {
   "cell_type": "markdown",
   "metadata": {},
   "source": [
    "## Preprocessing"
   ]
  },
  {
   "cell_type": "code",
   "execution_count": null,
   "metadata": {
    "scrolled": true
   },
   "outputs": [],
   "source": [
    "# Normalize data according with the documentation (https://pytorch.org/docs/stable/torchvision/models.html)\n",
    "# ..."
   ]
  },
  {
   "cell_type": "markdown",
   "metadata": {},
   "source": [
    "## Generate PyTorch Datasets"
   ]
  },
  {
   "cell_type": "code",
   "execution_count": null,
   "metadata": {},
   "outputs": [],
   "source": [
    "E1_train_set = TensorDataset(E1_train_images_tensor, train_labels_tensor[0:E1_train_samples])\n",
    "E1_test_set = TensorDataset(E1_test_images_tensor, test_labels_tensor[0:E1_test_samples])\n",
    "\n",
    "# Split train set into train and validation subsets\n",
    "E1_num_examples = len(E1_train_set)\n",
    "E1_num_validation_examples = floor(0.3*len(E1_train_set))\n",
    "E1_num_train_examples = len(E1_train_set) - E1_num_validation_examples\n",
    "print(f'Number of examples: {E1_num_examples} \\n'\n",
    "      f'Number of train examples: {E1_num_train_examples} \\n'\n",
    "      f'Number of validation examples: {E1_num_validation_examples}')\n",
    "\n",
    "E1_subsets = random_split(E1_train_set, [E1_num_train_examples, E1_num_validation_examples])\n",
    "E1_train_subset = E1_subsets[0]\n",
    "E1_validation_subset = E1_subsets[1]\n",
    "\n",
    "# Dataloaders\n",
    "E1_train_loader = DataLoader(E1_train_subset, batch_size=32, shuffle=True)\n",
    "E1_validation_loader = DataLoader(E1_validation_subset, batch_size=32, shuffle=True)\n",
    "E1_test_loader = DataLoader(E1_test_set, batch_size=32, shuffle=True)"
   ]
  },
  {
   "cell_type": "code",
   "execution_count": null,
   "metadata": {},
   "outputs": [],
   "source": []
  },
  {
   "cell_type": "markdown",
   "metadata": {},
   "source": [
    "## Load AlexNet with pre-trained weights"
   ]
  },
  {
   "cell_type": "code",
   "execution_count": null,
   "metadata": {},
   "outputs": [],
   "source": [
    "class AlexNet(nn.Module):\n",
    "    def __init__(self):\n",
    "        super(AlexNet, self).__init__()\n",
    "        # Load pre-trained AlexNet\n",
    "        self.original_alexnet = models.alexnet(pretrained=True)\n",
    "        self.alexnet = deepcopy(self.original_alexnet)\n",
    "        \n",
    "        # Freeze conv weights\n",
    "        # for weight in self.alexnet.features.parameters():\n",
    "        #     weight.requires_grad = False\n",
    "        \n",
    "        # Adapt first and last layers to the dataset\n",
    "        self.alexnet.features[0] = nn.Conv2d(in_channels=1, out_channels=64, kernel_size=(11, 11), \n",
    "                                             stride=(4, 4), padding=(2, 2))\n",
    "        # the dataset does not have any sample of the 'j' (9) and 'z' (25) letters, but I add them to the classifier\n",
    "        missing_letters = 2\n",
    "        self.alexnet.classifier[-1] = nn.Linear(4096, len(train_labels_tensor.unique()) + missing_letters)\n",
    "        \n",
    "    def forward(self, x):\n",
    "        x = self.alexnet(x)\n",
    "        return F.log_softmax(x, dim=1)\n",
    "        \n",
    "    def show_model_changes(self):\n",
    "        print(f'Original AlexNet:\\n{self.original_alexnet}')\n",
    "        print(f'Modified AlexNet:\\n{self.alexnet}')\n",
    "        \n",
    "alexnet = AlexNet()\n",
    "alexnet.show_model_changes()"
   ]
  },
  {
   "cell_type": "markdown",
   "metadata": {},
   "source": [
    "## Train and evaluate AlexNet"
   ]
  },
  {
   "cell_type": "code",
   "execution_count": null,
   "metadata": {
    "scrolled": true
   },
   "outputs": [],
   "source": [
    "# Train model\n",
    "E1_criteria = nn.CrossEntropyLoss()\n",
    "E1_optimizer = optim.RMSprop(alexnet.parameters())\n",
    "\n",
    "# For each epoch...\n",
    "for epoch in range(5):\n",
    "    # Training part\n",
    "    alexnet.train()\n",
    "    # For each mini-batch\n",
    "    for batch_idx, (data, target) in enumerate(E1_train_loader):\n",
    "        # Forward\n",
    "        output = alexnet(data)\n",
    "        # Calculate loss\n",
    "        loss = E1_criteria(output, target)\n",
    "        # Clear previous gradients (make gradients zero)\n",
    "        E1_optimizer.zero_grad()\n",
    "        # Backpropagation\n",
    "        loss.backward()\n",
    "        # Update model parameters\n",
    "        E1_optimizer.step()\n",
    "        \n",
    "        print(f'Epoch: {epoch} [{batch_idx * len(data)}/{len(E1_train_loader.dataset)}'\n",
    "              f'({round(100. * batch_idx / len(E1_train_loader), 2)}%)]\\t'\n",
    "              f'Loss: {round(loss.item(), 6)}')\n",
    "    \n",
    "    # Evaluation part-> Validation set\n",
    "    alexnet.eval()\n",
    "    validation_loss = 0\n",
    "    correct = 0\n",
    "    with torch.no_grad():\n",
    "        for data, target in E1_validation_loader:\n",
    "            output = alexnet(data)\n",
    "            validation_loss += E1_criteria(output, target).item() # sum up batch loss\n",
    "            pred = output.max(1, keepdim=True)[1] # get the index of the max log-probability\n",
    "            correct += pred.eq(target.view_as(pred)).sum().item()\n",
    "\n",
    "    validation_loss /= len(E1_validation_loader.dataset)\n",
    "    print('\\n'\n",
    "          f'Validation set: Average loss: {round(validation_loss, 6)}, '\n",
    "          f'Accuracy: {correct}/{len(E1_validation_loader.dataset)} '\n",
    "          f'({round(100. * correct / len(E1_validation_loader.dataset), 3)}%)\\n')  "
   ]
  },
  {
   "cell_type": "markdown",
   "metadata": {},
   "source": [
    "# Experiment 2. Custom CNN\n",
    "\n",
    "## Preprocessing"
   ]
  },
  {
   "cell_type": "code",
   "execution_count": null,
   "metadata": {},
   "outputs": [],
   "source": []
  },
  {
   "cell_type": "markdown",
   "metadata": {},
   "source": [
    "## Generate PyTorch Datasets"
   ]
  },
  {
   "cell_type": "code",
   "execution_count": null,
   "metadata": {},
   "outputs": [],
   "source": [
    "E2_train_set = TensorDataset(train_images_tensor, train_labels_tensor)\n",
    "E2_test_set = TensorDataset(test_images_tensor, test_labels_tensor)\n",
    "\n",
    "# Split train set into train and validation subsets\n",
    "E2_num_examples = len(E2_train_set)\n",
    "E2_num_validation_examples = floor(0.3*len(E2_train_set))\n",
    "E2_num_train_examples = len(E2_train_set) - E2_num_validation_examples\n",
    "print(f'Number of examples: {E2_num_examples} \\n'\n",
    "      f'Number of train examples: {E2_num_train_examples} \\n'\n",
    "      f'Number of validation examples: {E2_num_validation_examples}')\n",
    "\n",
    "E2_subsets = random_split(E2_train_set, [E2_num_train_examples, E2_num_validation_examples])\n",
    "E2_train_subset = E2_subsets[0]\n",
    "E2_validation_subset = E2_subsets[1]\n",
    "\n",
    "# Dataloaders\n",
    "E2_train_loader = DataLoader(E2_train_subset, batch_size=32, shuffle=True)\n",
    "E2_validation_loader = DataLoader(E2_validation_subset, batch_size=32, shuffle=True)\n",
    "E2_test_loader = DataLoader(E2_test_set, batch_size=32, shuffle=True)"
   ]
  },
  {
   "cell_type": "markdown",
   "metadata": {},
   "source": [
    "## Create BasicCNN"
   ]
  },
  {
   "cell_type": "code",
   "execution_count": null,
   "metadata": {},
   "outputs": [],
   "source": [
    "class BasicCNN(nn.Module):\n",
    "    def __init__(self):\n",
    "        super(BasicCNN, self).__init__()\n",
    "        self.conv1 = nn.Conv2d(in_channels=1, out_channels=32, kernel_size=(3, 3))\n",
    "        self.conv2 = nn.Conv2d(in_channels=32, out_channels=64, kernel_size=(2, 2))\n",
    "        self.fc1 = nn.Linear(64*12*12, 32)\n",
    "        self.fc2 = nn.Linear(32, 26)\n",
    "        self.softmax = nn.LogSoftmax(dim=1)\n",
    "        \n",
    "    def forward(self, x):\n",
    "        x = F.relu(F.max_pool2d(self.conv1(x), kernel_size=(2, 2)))\n",
    "        # cnn output size = (input_size - kernel_size + 2*padding)/stride + 1\n",
    "        # feature map size = [ (28-3+2*0)/(1) + 1 = 26 ] / 2 = 13\n",
    "        x = F.relu(self.conv2(x))\n",
    "        # feature map size = (13-2)/1 + 1 = 12\n",
    "        x = x.view(-1, 64*12*12)\n",
    "        x = F.relu(self.fc1(x))\n",
    "        x = self.fc2(x)\n",
    "        return self.softmax(x)\n",
    "    \n",
    "basic_cnn = BasicCNN()\n",
    "print(basic_cnn)"
   ]
  },
  {
   "cell_type": "markdown",
   "metadata": {},
   "source": [
    "## Train and evaluate BasicCNN"
   ]
  },
  {
   "cell_type": "code",
   "execution_count": null,
   "metadata": {
    "scrolled": true
   },
   "outputs": [],
   "source": [
    "# Train model\n",
    "criteria = nn.NLLLoss()\n",
    "optimizer = optim.Adam(basic_cnn.parameters())\n",
    "\n",
    "# For each epoch...\n",
    "for epoch in range(5):\n",
    "    # Training part\n",
    "    basic_cnn.train()\n",
    "    # For each mini-batch\n",
    "    for batch_idx, (data, target) in enumerate(E2_train_loader):\n",
    "        # Clear previous gradients (make gradients zero)\n",
    "        optimizer.zero_grad()\n",
    "        # Forward\n",
    "        output = basic_cnn(data)\n",
    "        # Calculate loss\n",
    "        loss = criteria(output, target)\n",
    "        # Backpropagation\n",
    "        loss.backward()\n",
    "        # Update model parameters\n",
    "        optimizer.step()\n",
    "        \n",
    "        print(f'Epoch: {epoch} [{batch_idx * len(data)}/{len(E2_train_loader.dataset)}'\n",
    "              f'({round(100. * batch_idx / len(E2_train_loader), 2)}%)]\\t'\n",
    "              f'Loss: {round(loss.item(), 6)}')\n",
    "    \n",
    "    # Evaluation part-> Validation set\n",
    "    basic_cnn.eval()\n",
    "    validation_loss = 0\n",
    "    correct = 0\n",
    "    with torch.no_grad():\n",
    "        for data, target in E2_validation_loader:\n",
    "            output = basic_cnn(data)\n",
    "            validation_loss += criteria(output, target).item() # sum up batch loss\n",
    "            pred = output.max(1, keepdim=True)[1] # get the index of the max log-probability\n",
    "            correct += pred.eq(target.view_as(pred)).sum().item()\n",
    "\n",
    "    validation_loss /= len(E2_validation_loader.dataset)\n",
    "    print('\\n'\n",
    "          f'Validation set: Average loss: {round(validation_loss, 6)}, '\n",
    "          f'Accuracy: {correct}/{len(E2_validation_loader.dataset)} '\n",
    "          f'({round(100. * correct / len(E2_validation_loader.dataset), 3)}%)\\n')  "
   ]
  },
  {
   "cell_type": "code",
   "execution_count": null,
   "metadata": {},
   "outputs": [],
   "source": []
  }
 ],
 "metadata": {
  "kernelspec": {
   "display_name": "Python 3",
   "language": "python",
   "name": "python3"
  },
  "language_info": {
   "codemirror_mode": {
    "name": "ipython",
    "version": 3
   },
   "file_extension": ".py",
   "mimetype": "text/x-python",
   "name": "python",
   "nbconvert_exporter": "python",
   "pygments_lexer": "ipython3",
   "version": "3.6.6"
  }
 },
 "nbformat": 4,
 "nbformat_minor": 2
}
